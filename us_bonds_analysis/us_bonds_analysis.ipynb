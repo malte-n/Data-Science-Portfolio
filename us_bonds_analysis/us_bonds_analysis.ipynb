{
 "cells": [
  {
   "cell_type": "code",
   "execution_count": 104,
   "metadata": {},
   "outputs": [
    {
     "data": {
      "text/html": [
       "<div>\n",
       "<style scoped>\n",
       "    .dataframe tbody tr th:only-of-type {\n",
       "        vertical-align: middle;\n",
       "    }\n",
       "\n",
       "    .dataframe tbody tr th {\n",
       "        vertical-align: top;\n",
       "    }\n",
       "\n",
       "    .dataframe thead th {\n",
       "        text-align: right;\n",
       "    }\n",
       "</style>\n",
       "<table border=\"1\" class=\"dataframe\">\n",
       "  <thead>\n",
       "    <tr style=\"text-align: right;\">\n",
       "      <th></th>\n",
       "      <th>Name</th>\n",
       "      <th>Sector</th>\n",
       "      <th>Asset Class</th>\n",
       "      <th>Market Value</th>\n",
       "      <th>Weight (%)</th>\n",
       "      <th>Notional Value</th>\n",
       "      <th>Par Value</th>\n",
       "      <th>CUSIP</th>\n",
       "      <th>ISIN</th>\n",
       "      <th>SEDOL</th>\n",
       "      <th>...</th>\n",
       "      <th>YTM (%)</th>\n",
       "      <th>FX Rate</th>\n",
       "      <th>Maturity</th>\n",
       "      <th>Coupon (%)</th>\n",
       "      <th>Mod. Duration</th>\n",
       "      <th>Yield to Call (%)</th>\n",
       "      <th>Yield to Worst (%)</th>\n",
       "      <th>Real Duration</th>\n",
       "      <th>Real YTM (%)</th>\n",
       "      <th>Market Currency</th>\n",
       "    </tr>\n",
       "  </thead>\n",
       "  <tbody>\n",
       "    <tr>\n",
       "      <th>0</th>\n",
       "      <td>BLK CSH FND TREASURY SL AGENCY</td>\n",
       "      <td>Cash and/or Derivatives</td>\n",
       "      <td>Money Market</td>\n",
       "      <td>6.347540e+08</td>\n",
       "      <td>1.09734</td>\n",
       "      <td>6.347540e+08</td>\n",
       "      <td>634754000</td>\n",
       "      <td>066922477</td>\n",
       "      <td>US0669224778</td>\n",
       "      <td>--</td>\n",
       "      <td>...</td>\n",
       "      <td>0.10</td>\n",
       "      <td>1</td>\n",
       "      <td>--</td>\n",
       "      <td>0.16</td>\n",
       "      <td>0.13</td>\n",
       "      <td>--</td>\n",
       "      <td>0.10</td>\n",
       "      <td>0.13</td>\n",
       "      <td>0.10</td>\n",
       "      <td>USD</td>\n",
       "    </tr>\n",
       "    <tr>\n",
       "      <th>1</th>\n",
       "      <td>ANHEUSER-BUSCH COMPANIES LLC</td>\n",
       "      <td>Consumer Non-Cyclical</td>\n",
       "      <td>Fixed Income</td>\n",
       "      <td>1.780641e+08</td>\n",
       "      <td>0.30783</td>\n",
       "      <td>1.780641e+08</td>\n",
       "      <td>136538000</td>\n",
       "      <td>03522AAJ9</td>\n",
       "      <td>US03522AAJ97</td>\n",
       "      <td>BJXS2M9</td>\n",
       "      <td>...</td>\n",
       "      <td>3.16</td>\n",
       "      <td>1</td>\n",
       "      <td>Feb 01, 2046</td>\n",
       "      <td>4.90</td>\n",
       "      <td>15.94</td>\n",
       "      <td>--</td>\n",
       "      <td>3.14</td>\n",
       "      <td>15.76</td>\n",
       "      <td>3.14</td>\n",
       "      <td>USD</td>\n",
       "    </tr>\n",
       "    <tr>\n",
       "      <th>2</th>\n",
       "      <td>GE CAPITAL INTERNATIONAL FUNDING C</td>\n",
       "      <td>Finance Companies</td>\n",
       "      <td>Fixed Income</td>\n",
       "      <td>1.729579e+08</td>\n",
       "      <td>0.29900</td>\n",
       "      <td>1.729579e+08</td>\n",
       "      <td>164076000</td>\n",
       "      <td>36164QNA2</td>\n",
       "      <td>US36164QNA21</td>\n",
       "      <td>BYNWXZ6</td>\n",
       "      <td>...</td>\n",
       "      <td>4.03</td>\n",
       "      <td>1</td>\n",
       "      <td>Nov 15, 2035</td>\n",
       "      <td>4.42</td>\n",
       "      <td>11.04</td>\n",
       "      <td>--</td>\n",
       "      <td>4.03</td>\n",
       "      <td>11.04</td>\n",
       "      <td>4.03</td>\n",
       "      <td>USD</td>\n",
       "    </tr>\n",
       "    <tr>\n",
       "      <th>3</th>\n",
       "      <td>CVS HEALTH CORP</td>\n",
       "      <td>Consumer Non-Cyclical</td>\n",
       "      <td>Fixed Income</td>\n",
       "      <td>1.709580e+08</td>\n",
       "      <td>0.29554</td>\n",
       "      <td>1.709580e+08</td>\n",
       "      <td>120791000</td>\n",
       "      <td>126650CZ1</td>\n",
       "      <td>US126650CZ11</td>\n",
       "      <td>BF4JKH4</td>\n",
       "      <td>...</td>\n",
       "      <td>2.94</td>\n",
       "      <td>1</td>\n",
       "      <td>Mar 25, 2048</td>\n",
       "      <td>5.05</td>\n",
       "      <td>16.68</td>\n",
       "      <td>--</td>\n",
       "      <td>2.92</td>\n",
       "      <td>16.51</td>\n",
       "      <td>2.92</td>\n",
       "      <td>USD</td>\n",
       "    </tr>\n",
       "    <tr>\n",
       "      <th>4</th>\n",
       "      <td>CVS HEALTH CORP</td>\n",
       "      <td>Consumer Non-Cyclical</td>\n",
       "      <td>Fixed Income</td>\n",
       "      <td>1.603515e+08</td>\n",
       "      <td>0.27721</td>\n",
       "      <td>1.603515e+08</td>\n",
       "      <td>132929000</td>\n",
       "      <td>126650CX6</td>\n",
       "      <td>US126650CX62</td>\n",
       "      <td>BF3V2P3</td>\n",
       "      <td>...</td>\n",
       "      <td>1.64</td>\n",
       "      <td>1</td>\n",
       "      <td>Mar 25, 2028</td>\n",
       "      <td>4.30</td>\n",
       "      <td>6.55</td>\n",
       "      <td>--</td>\n",
       "      <td>1.56</td>\n",
       "      <td>6.36</td>\n",
       "      <td>1.56</td>\n",
       "      <td>USD</td>\n",
       "    </tr>\n",
       "  </tbody>\n",
       "</table>\n",
       "<p>5 rows × 25 columns</p>\n",
       "</div>"
      ],
      "text/plain": [
       "                                 Name                   Sector   Asset Class  \\\n",
       "0      BLK CSH FND TREASURY SL AGENCY  Cash and/or Derivatives  Money Market   \n",
       "1        ANHEUSER-BUSCH COMPANIES LLC    Consumer Non-Cyclical  Fixed Income   \n",
       "2  GE CAPITAL INTERNATIONAL FUNDING C        Finance Companies  Fixed Income   \n",
       "3                     CVS HEALTH CORP    Consumer Non-Cyclical  Fixed Income   \n",
       "4                     CVS HEALTH CORP    Consumer Non-Cyclical  Fixed Income   \n",
       "\n",
       "   Market Value  Weight (%)  Notional Value  Par Value      CUSIP  \\\n",
       "0  6.347540e+08     1.09734    6.347540e+08  634754000  066922477   \n",
       "1  1.780641e+08     0.30783    1.780641e+08  136538000  03522AAJ9   \n",
       "2  1.729579e+08     0.29900    1.729579e+08  164076000  36164QNA2   \n",
       "3  1.709580e+08     0.29554    1.709580e+08  120791000  126650CZ1   \n",
       "4  1.603515e+08     0.27721    1.603515e+08  132929000  126650CX6   \n",
       "\n",
       "           ISIN    SEDOL  ...  YTM (%) FX Rate      Maturity Coupon (%)  \\\n",
       "0  US0669224778       --  ...     0.10       1            --       0.16   \n",
       "1  US03522AAJ97  BJXS2M9  ...     3.16       1  Feb 01, 2046       4.90   \n",
       "2  US36164QNA21  BYNWXZ6  ...     4.03       1  Nov 15, 2035       4.42   \n",
       "3  US126650CZ11  BF4JKH4  ...     2.94       1  Mar 25, 2048       5.05   \n",
       "4  US126650CX62  BF3V2P3  ...     1.64       1  Mar 25, 2028       4.30   \n",
       "\n",
       "   Mod. Duration  Yield to Call (%)  Yield to Worst (%) Real Duration  \\\n",
       "0           0.13                 --                0.10          0.13   \n",
       "1          15.94                 --                3.14         15.76   \n",
       "2          11.04                 --                4.03         11.04   \n",
       "3          16.68                 --                2.92         16.51   \n",
       "4           6.55                 --                1.56          6.36   \n",
       "\n",
       "   Real YTM (%)  Market Currency  \n",
       "0          0.10              USD  \n",
       "1          3.14              USD  \n",
       "2          4.03              USD  \n",
       "3          2.92              USD  \n",
       "4          1.56              USD  \n",
       "\n",
       "[5 rows x 25 columns]"
      ]
     },
     "execution_count": 104,
     "metadata": {},
     "output_type": "execute_result"
    }
   ],
   "source": [
    "import pandas as pd\n",
    "import numpy as np\n",
    "import datetime as dt\n",
    "\n",
    "df = pd.read_excel('iShares-iBoxx--Investment-Grade-Corporate-Bond-ETF_fund.xls', skiprows=7)\n",
    "df.head()"
   ]
  },
  {
   "cell_type": "code",
   "execution_count": 108,
   "metadata": {},
   "outputs": [
    {
     "data": {
      "text/plain": [
       "0                NaN\n",
       "1       Feb 01, 2046\n",
       "2       Nov 15, 2035\n",
       "3       Mar 25, 2048\n",
       "4       Mar 25, 2028\n",
       "            ...     \n",
       "2297    Feb 12, 2045\n",
       "2298    Mar 15, 2023\n",
       "2299    Aug 15, 2045\n",
       "2300    Mar 15, 2027\n",
       "2301    Jan 17, 2023\n",
       "Name: Maturity, Length: 2302, dtype: object"
      ]
     },
     "execution_count": 108,
     "metadata": {},
     "output_type": "execute_result"
    }
   ],
   "source": [
    "df['Maturity'] = df['Maturity'].str.replace('--','')\n",
    "df['Maturity'].replace(r'^\\s*$', np.nan, regex=True, inplace=True)\n",
    "df['Maturity']"
   ]
  },
  {
   "cell_type": "code",
   "execution_count": 111,
   "metadata": {},
   "outputs": [],
   "source": [
    "df['Maturity'] = pd.to_datetime(df['Maturity'],format='%b %d, %Y')\n"
   ]
  },
  {
   "cell_type": "code",
   "execution_count": 112,
   "metadata": {},
   "outputs": [
    {
     "data": {
      "text/plain": [
       "0          NaT\n",
       "1   2046-02-01\n",
       "2   2035-11-15\n",
       "3   2048-03-25\n",
       "4   2028-03-25\n",
       "Name: Maturity, dtype: datetime64[ns]"
      ]
     },
     "execution_count": 112,
     "metadata": {},
     "output_type": "execute_result"
    }
   ],
   "source": [
    "df['Maturity'].head()"
   ]
  },
  {
   "cell_type": "code",
   "execution_count": 90,
   "metadata": {},
   "outputs": [],
   "source": [
    "df['Maturity'] = df['Maturity'].apply(lambda x: x.strip())"
   ]
  },
  {
   "cell_type": "code",
   "execution_count": 91,
   "metadata": {},
   "outputs": [
    {
     "data": {
      "text/plain": [
       "dtype('O')"
      ]
     },
     "execution_count": 91,
     "metadata": {},
     "output_type": "execute_result"
    }
   ],
   "source": [
    "df['Maturity'].dtype"
   ]
  },
  {
   "cell_type": "code",
   "execution_count": null,
   "metadata": {},
   "outputs": [],
   "source": []
  }
 ],
 "metadata": {
  "kernelspec": {
   "display_name": "Python 3",
   "language": "python",
   "name": "python3"
  },
  "language_info": {
   "codemirror_mode": {
    "name": "ipython",
    "version": 3
   },
   "file_extension": ".py",
   "mimetype": "text/x-python",
   "name": "python",
   "nbconvert_exporter": "python",
   "pygments_lexer": "ipython3",
   "version": "3.8.3"
  }
 },
 "nbformat": 4,
 "nbformat_minor": 4
}
